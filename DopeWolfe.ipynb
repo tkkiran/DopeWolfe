{
 "cells": [
  {
   "cell_type": "code",
   "execution_count": 1,
   "metadata": {
    "cellView": "form",
    "colab": {
     "base_uri": "https://localhost:8080/",
     "height": 393
    },
    "executionInfo": {
     "elapsed": 380,
     "status": "error",
     "timestamp": 1748199437780,
     "user": {
      "displayName": "Kiran Koshy",
      "userId": "03249735075550040657"
     },
     "user_tz": 420
    },
    "id": "dUrLMhAcZYDY",
    "jupyter": {
     "source_hidden": true
    },
    "outputId": "9a097e0d-532e-4c06-a7a1-d287c1f53fee",
    "tags": []
   },
   "outputs": [
    {
     "name": "stdout",
     "output_type": "stream",
     "text": [
      "python 3.10.14\n",
      "matplotlib 3.9.2\n",
      "64 joblib CPUs\n"
     ]
    },
    {
     "name": "stderr",
     "output_type": "stream",
     "text": [
      "/home/kkt/miniforge3/envs/dope2/lib/python3.10/site-packages/tqdm/auto.py:21: TqdmWarning: IProgress not found. Please update jupyter and ipywidgets. See https://ipywidgets.readthedocs.io/en/stable/user_install.html\n",
      "  from .autonotebook import tqdm as notebook_tqdm\n"
     ]
    }
   ],
   "source": [
    "# Imports and defaults\n",
    "import itertools\n",
    "import joblib\n",
    "from joblib import Parallel, delayed\n",
    "import json\n",
    "import matplotlib as mpl\n",
    "import matplotlib.pyplot as plt\n",
    "import numpy as np\n",
    "from oohf import *\n",
    "import pandas as pd\n",
    "import time\n",
    "from tqdm.auto import tqdm\n",
    "\n",
    "mpl.style.use(\"classic\")\n",
    "mpl.rcParams[\"figure.figsize\"] = [6, 4]\n",
    "\n",
    "mpl.rcParams[\"axes.linewidth\"] = 0.75\n",
    "mpl.rcParams[\"errorbar.capsize\"] = 3\n",
    "mpl.rcParams[\"figure.facecolor\"] = \"w\"\n",
    "mpl.rcParams[\"grid.linewidth\"] = 0.75\n",
    "mpl.rcParams[\"lines.linewidth\"] = 0.75\n",
    "mpl.rcParams[\"patch.linewidth\"] = 0.75\n",
    "mpl.rcParams[\"xtick.major.size\"] = 3\n",
    "mpl.rcParams[\"ytick.major.size\"] = 3\n",
    "\n",
    "mpl.rcParams[\"pdf.fonttype\"] = 42\n",
    "mpl.rcParams[\"ps.fonttype\"] = 42\n",
    "mpl.rcParams[\"font.size\"] = 9\n",
    "mpl.rcParams[\"axes.titlesize\"] = \"medium\"\n",
    "mpl.rcParams[\"legend.fontsize\"] = \"medium\"\n",
    "\n",
    "import platform\n",
    "print(\"python %s\" % platform.python_version())\n",
    "print(\"matplotlib %s\" % mpl.__version__)\n",
    "print(\"%d joblib CPUs\" % joblib.cpu_count())\n",
    "\n",
    "def linestyle2dashes(style):\n",
    "  if style == \"--\":\n",
    "    return (3, 3)\n",
    "  elif style == \":\":\n",
    "    return (0.5, 2.5)\n",
    "  else:\n",
    "    return (None, None)"
   ]
  },
  {
   "cell_type": "code",
   "execution_count": 2,
   "metadata": {
    "id": "rhwADEnYyStc",
    "jupyter": {
     "source_hidden": true
    },
    "tags": []
   },
   "outputs": [],
   "source": [
    "def d_grad(V, p, gamma=1e-6, return_grad=True, subset=None):\n",
    "  \"\"\"Value of D-optimal objective and its gradient.\n",
    "\n",
    "  V: n x d x d matrix of feature-vector outer products\n",
    "  p: distribution over feature vectors (design)\n",
    "  \"\"\"\n",
    "  n, d, _ = V.shape\n",
    "\n",
    "  # inverse of the sample covariance matrix\n",
    "  G = np.einsum(\"ijk,i->jk\", V, p) + gamma * np.eye(d)\n",
    "  invG = np.linalg.inv(G)\n",
    "\n",
    "  # objective value (log det)\n",
    "  sign, obj = np.linalg.slogdet(G)\n",
    "  obj *= - sign\n",
    "  if return_grad:\n",
    "    # gradient of the objective\n",
    "    if subset is None:\n",
    "      M = np.einsum(\"kl,ilj->ikj\", invG, V)\n",
    "      dp = - np.trace(M, axis1=-2, axis2=-1)\n",
    "    else:\n",
    "      M = np.einsum(\"kl,ilj->ikj\", invG, V[subset, :, :])\n",
    "      dp = np.zeros(n)\n",
    "      dp[subset] = - np.trace(M, axis1=-2, axis2=-1)\n",
    "  else:\n",
    "    dp = 0\n",
    "\n",
    "  return obj, dp\n",
    "\n",
    "\n",
    "def fw_design(V, pi_0=None, R=None, num_iters=100, tol=1e-6, printout=True):\n",
    "  \"\"\"Frank-Wolfe algorithm for design optimization.\n",
    "\n",
    "  V: n x d x d matrix of feature-vector outer products\n",
    "  pi_0: initial distribution over feature vectors (design)\n",
    "  R: number of subsampled feature vectors in each iteration\n",
    "  num_iters: maximum number of Frank-Wolfe iterations\n",
    "  tol: stop when two consecutive objective values differ by less than tol\n",
    "  \"\"\"\n",
    "  n, d, _ = V.shape\n",
    "  if pi_0 is None:\n",
    "    # initial allocation weights are 1 / n and they add up to 1\n",
    "    pi = np.ones(n) / n\n",
    "  else:\n",
    "    pi = np.copy(pi_0)\n",
    "  if R is None:\n",
    "    R = n\n",
    "\n",
    "  # Frank-Wolfe iterations\n",
    "  for iter in range(num_iters):\n",
    "    # compute gradient at the last solution\n",
    "    pi_last = np.copy(pi)\n",
    "    if R == n:\n",
    "      # Dope\n",
    "      last_obj, grad = d_grad(V, pi_last)\n",
    "    else:\n",
    "      # DopeWolfe\n",
    "      last_obj, grad = d_grad(V, pi_last, subset=np.random.permutation(n)[: R])\n",
    "\n",
    "    if iter == 0:\n",
    "      obj_s = [last_obj]\n",
    "\n",
    "    if printout:\n",
    "      print(\"%.4f\" % last_obj, end=\" \")\n",
    "\n",
    "    # find a feasible LP solution in the direction of the gradient\n",
    "    pi_lp = np.zeros(n)\n",
    "    pi_lp[np.argmin(grad)] = 1.0\n",
    "\n",
    "    # golden-section search in the direction of the gradient\n",
    "    num_ls_iters = 20\n",
    "    left_step = 0\n",
    "    left_obj, _ = d_grad(V, pi_last, return_grad=False)\n",
    "    right_step = 1.0\n",
    "    right_obj, _ = d_grad(V, pi_lp, return_grad=False)\n",
    "\n",
    "    for ls_iter in range(num_ls_iters):\n",
    "      mid1 = left_step + 0.618 * (right_step - left_step)\n",
    "      obj1, _ = d_grad(V, mid1 * pi_lp + (1 - mid1) * pi_last, return_grad=False)\n",
    "      mid2 = right_step - 0.618 * (right_step - left_step)\n",
    "      obj2, _ = d_grad(V, mid2 * pi_lp + (1 - mid2) * pi_last, return_grad=False)\n",
    "\n",
    "      if obj1 < obj2:\n",
    "        left_step = mid2\n",
    "        left_obj = obj2\n",
    "      else:\n",
    "        right_step = mid1\n",
    "        right_obj = obj1\n",
    "    best_step = (left_step + right_step) / 2\n",
    "\n",
    "    # update solution\n",
    "    pi = best_step * pi_lp + (1 - best_step) * pi_last\n",
    "    best_obj, _ = d_grad(V, pi, return_grad=False)\n",
    "    obj_s.append(best_obj)\n",
    "\n",
    "    # if last_obj - best_obj < tol:\n",
    "    #   break;\n",
    "    if R==n and last_obj - best_obj < tol:\n",
    "      break;\n",
    "    elif R!=n and len(obj_s) > 2*(n//R) and obj_s[-(n//R)-1] - best_obj < tol: \n",
    "      break;\n",
    "    iter += 1\n",
    "\n",
    "  if printout:\n",
    "    print()\n",
    "\n",
    "  pi = np.maximum(pi, 0)\n",
    "  pi /= pi.sum()\n",
    "  return pi"
   ]
  },
  {
   "cell_type": "code",
   "execution_count": 4,
   "metadata": {
    "executionInfo": {
     "elapsed": 335818,
     "status": "ok",
     "timestamp": 1622693856032,
     "user": {
      "displayName": "Branislav Kveton",
      "photoUrl": "https://lh3.googleusercontent.com/a-/AOh14GhjPg1PJKD4ixGqLaZ4X3dpkI6w6dO_eTj8z63Y=s64",
      "userId": "09350298559467540088"
     },
     "user_tz": 0
    },
    "id": "O7WNIAqO-9FA",
    "outputId": "5d3114c6-ae59-4504-8b64-111712ff3f84",
    "tags": []
   },
   "outputs": [
    {
     "name": "stdout",
     "output_type": "stream",
     "text": [
      "..................................................\n"
     ]
    },
    {
     "data": {
      "image/png": "[encoded data removed]",
      "text/plain": [
       "<Figure size 320x220 with 1 Axes>"
      ]
     },
     "metadata": {},
     "output_type": "display_data"
    },
    {
     "name": "stdout",
     "output_type": "stream",
     "text": [
      "Computation time:\n",
      "   Uniform: 0.000 +/- 0.000\n",
      "      Dope: 20.147 +/- 0.008\n",
      " DopeWolfe: 6.184 +/- 0.006\n",
      "..................................................\n"
     ]
    },
    {
     "data": {
      "image/png": "[encoded data removed]",
      "text/plain": [
       "<Figure size 320x220 with 1 Axes>"
      ]
     },
     "metadata": {},
     "output_type": "display_data"
    },
    {
     "name": "stdout",
     "output_type": "stream",
     "text": [
      "Computation time:\n",
      "   Uniform: 0.000 +/- 0.000\n",
      "      Dope: 0.960 +/- 0.000\n",
      " DopeWolfe: 0.411 +/- 0.022\n"
     ]
    }
   ],
   "source": [
    "num_logged = np.arange(100, 1100, 100)  # number of logged data points\n",
    "# num_logged = np.arange(1000, 1100, 100)  # number of logged data points\n",
    "n_max = num_logged.max()\n",
    "num_runs = 50\n",
    "\n",
    "for dataset in [\"Anthropic\", \"Nectar\"]:\n",
    "  Phi = np.load(\"%s_features.npy\" % dataset.lower())  # features\n",
    "  N = Phi.shape[0]  # number of data points\n",
    "  K = Phi.shape[1]  # number of answers\n",
    "  d = Phi.shape[2]  # number of features\n",
    "\n",
    "  algs = [\n",
    "    (0, \"Uniform\", \"blue\", \"-\", \"Uniform\"),\n",
    "    (1, \"Dope\", \"orange\", \"-\", \"Dope\"),\n",
    "    (2, \"DopeWolfe\", \"red\", \"-\", \"DopeWolfe\")]\n",
    "  num_algs = len(algs)\n",
    "\n",
    "  errors = np.zeros((num_algs, num_runs, n_max + 1))\n",
    "  times = np.zeros((num_algs, num_runs))\n",
    "  for run in range(num_runs):\n",
    "    print(\".\", end=\"\")\n",
    "\n",
    "    theta_star = np.random.randn(d)  # model parameter\n",
    "    V = np.zeros((N, d, d))  # feature outer products\n",
    "    for i in range(K):\n",
    "      for j in range(i + 1, K):\n",
    "        dX = Phi[:, i, :] - Phi[:, j, :]\n",
    "        V += np.einsum(\"ti,tj->tij\", dX, dX)\n",
    "\n",
    "    for alg in algs:\n",
    "      start = time.time()\n",
    "      if alg[1] == \"Uniform\":\n",
    "        pi = np.ones(N) / N\n",
    "      elif alg[1] == \"Dope\":\n",
    "        pi = fw_design(V, printout=False)\n",
    "      elif alg[1] == \"DopeWolfe\":\n",
    "        pi = fw_design(V, R=N // 10, printout=False)\n",
    "      times[alg[0], run] = time.time() - start\n",
    "\n",
    "      # log data\n",
    "      Phi_log = np.zeros((n_max, K, d))\n",
    "      for t in range(n_max):\n",
    "        i = np.random.choice(N, p=pi)\n",
    "        Phi_log[t, :, :] = Phi[i, :, :]\n",
    "\n",
    "      # estimate model and evaluate it\n",
    "      for t in num_logged:\n",
    "        model = PlackettLuce(Phi_log[: t, :, :])  # initialize PL class for the logged data\n",
    "        A = model.sample(K, theta_star)  # collect feedback\n",
    "        theta_hat = model.mle(A)  # estimate model parameter\n",
    "\n",
    "        # ranking loss\n",
    "        loss = 0\n",
    "        for i in range(K):\n",
    "          for j in range(i + 1, K):\n",
    "            dX = Phi[:, i, :] - Phi[:, j, :]\n",
    "            loss += (np.sign(dX.dot(theta_star)) != np.sign(dX.dot(theta_hat))).sum()\n",
    "        errors[alg[0], run, t] = loss / N\n",
    "  print()\n",
    "\n",
    "  # plots\n",
    "  plt.figure(figsize=(4, 2.75))\n",
    "  for alg in algs:\n",
    "    y = errors[alg[0], :, :][:, num_logged]\n",
    "    plt.plot(num_logged, y.mean(axis=0),\n",
    "      alg[2], dashes=linestyle2dashes(alg[3]), label=alg[4])\n",
    "    plt.errorbar(num_logged, y.mean(axis=0),\n",
    "      y.std(axis=0) / np.sqrt(num_runs),\n",
    "      fmt=\"none\", ecolor=alg[2])\n",
    "\n",
    "    plt.title(\"%s Dataset\" % dataset)\n",
    "    plt.xlabel(\"Sample Size (T)\")\n",
    "    plt.xlim(num_logged[0], num_logged[-1])\n",
    "    plt.ylabel(\"Mean Ranking Loss\")\n",
    "    plt.legend(loc=\"best\", frameon=False)\n",
    "\n",
    "  plt.tight_layout()\n",
    "  plt.savefig(\"Results/%s.pdf\" % dataset.lower(), format=\"pdf\", dpi=1200, bbox_inches=0)\n",
    "  plt.show()\n",
    "\n",
    "  print(\"Computation time:\")\n",
    "  for alg in algs:\n",
    "    print(\"%10s: %.3f +/- %.3f\" %\n",
    "      (alg[4], times[alg[0], :].mean(axis=-1), times[alg[0], :].std(axis=-1) / np.sqrt(num_runs)))"
   ]
  },
  {
   "cell_type": "code",
   "execution_count": null,
   "metadata": {},
   "outputs": [],
   "source": []
  }
 ],
 "metadata": {
  "colab": {
   "provenance": []
  },
  "kernelspec": {
   "display_name": "dope2",
   "language": "python",
   "name": "python3"
  },
  "language_info": {
   "codemirror_mode": {
    "name": "ipython",
    "version": 3
   },
   "file_extension": ".py",
   "mimetype": "text/x-python",
   "name": "python",
   "nbconvert_exporter": "python",
   "pygments_lexer": "ipython3",
   "version": "3.10.14"
  }
 },
 "nbformat": 4,
 "nbformat_minor": 0
}
